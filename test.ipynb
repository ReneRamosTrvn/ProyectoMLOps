{
 "cells": [
  {
   "cell_type": "code",
   "execution_count": 84,
   "metadata": {},
   "outputs": [],
   "source": [
    "from sklearn.preprocessing import StandardScaler\n",
    "from sklearn.metrics.pairwise import cosine_similarity\n",
    "from sklearn.pipeline import make_pipeline\n",
    "import pandas as pd\n",
    "import joblib"
   ]
  },
  {
   "attachments": {},
   "cell_type": "markdown",
   "metadata": {},
   "source": [
    "Train data"
   ]
  },
  {
   "cell_type": "code",
   "execution_count": 85,
   "metadata": {},
   "outputs": [
    {
     "data": {
      "text/plain": [
       "['trained_model.joblib']"
      ]
     },
     "execution_count": 85,
     "metadata": {},
     "output_type": "execute_result"
    }
   ],
   "source": [
    "df = pd.read_csv('./datasets/streaming.csv')\n",
    "df_sample = df.sample(n=3000, random_state=42)\n",
    "\n",
    "df = df_sample.drop(['type', 'Unnamed: 0', 'show_id', 'director', 'country', 'date_added',\n",
    "                     'release_year', 'duration_int', 'duration_type', 'description', 'cast'], axis=1)\n",
    "genre_dummies = df_sample['listed_in'].str.join('|').str.get_dummies()\n",
    "features = pd.concat([genre_dummies, df['score']], axis=1)\n",
    "\n",
    "scaler = StandardScaler()\n",
    "features_scaled = scaler.fit_transform(features)\n",
    "\n",
    "cosine_sim = cosine_similarity(features_scaled)\n",
    "\n",
    "joblib.dump((df_sample, features, cosine_sim), 'preprocessed_data.joblib')\n",
    "joblib.dump(scaler, 'trained_model.joblib')\n"
   ]
  },
  {
   "attachments": {},
   "cell_type": "markdown",
   "metadata": {},
   "source": [
    "Recomendation"
   ]
  },
  {
   "cell_type": "code",
   "execution_count": 86,
   "metadata": {},
   "outputs": [],
   "source": [
    "def get_recommendations_new(title: str, num_recommendations=5):\n",
    "    \"\"\"\n",
    "    This model will give you a recommendation based on a given movie\n",
    "\n",
    "    Parameters:\n",
    "    title (str): The title of the movie you want to get recommendations from\n",
    "\n",
    "    Returns:\n",
    "    A list of 5 movies this model recommends you\n",
    "    \"\"\"\n",
    "    # Load preprocessed data and trained model from joblib files\n",
    "    df_sample, features, cosine_sim = joblib.load('preprocessed_data.joblib')\n",
    "    scaler = joblib.load('trained_model.joblib')\n",
    "\n",
    "    # Preprocess the input title\n",
    "    title_features = pd.DataFrame(\n",
    "        features.iloc[df_sample[df_sample['title'] == title].index[0]]).T\n",
    "    title_features_scaled = scaler.transform(title_features)\n",
    "\n",
    "    # Calculate cosine similarity between input title and all other titles\n",
    "    sim_scores = list(\n",
    "        enumerate(cosine_sim[df_sample[df_sample['title'] == title].index[0]]))\n",
    "    sim_scores = sorted(sim_scores, key=lambda x: x[1], reverse=True)\n",
    "    sim_scores = sim_scores[1:num_recommendations+1]\n",
    "\n",
    "    # Get recommended movie titles\n",
    "    movie_indices = [i[0] for i in sim_scores]\n",
    "    recommended_movies = df_sample['title'].iloc[movie_indices].tolist()\n",
    "\n",
    "    return recommended_movies"
   ]
  },
  {
   "cell_type": "code",
   "execution_count": 87,
   "metadata": {},
   "outputs": [
    {
     "data": {
      "text/plain": [
       "['jcvd',\n",
       " 'tomorrow never dies',\n",
       " 'the man with the golden arm',\n",
       " 'blackmark',\n",
       " 'kadavul paathi mirugam paathi']"
      ]
     },
     "execution_count": 87,
     "metadata": {},
     "output_type": "execute_result"
    }
   ],
   "source": [
    "get_recommendations_new('homecoming')"
   ]
  }
 ],
 "metadata": {
  "language_info": {
   "name": "python"
  },
  "orig_nbformat": 4
 },
 "nbformat": 4,
 "nbformat_minor": 2
}
