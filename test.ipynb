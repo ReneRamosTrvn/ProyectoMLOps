{
 "cells": [
  {
   "cell_type": "code",
   "execution_count": 74,
   "metadata": {},
   "outputs": [],
   "source": [
    "from fastapi import FastAPI\n",
    "import pandas as pd\n",
    "import json\n",
    "import gzip\n",
    "from sklearn.metrics.pairwise import cosine_similarity\n",
    "from sklearn.preprocessing import StandardScaler\n",
    "import numpy as np"
   ]
  },
  {
   "attachments": {},
   "cell_type": "markdown",
   "metadata": {},
   "source": [
    "Train data"
   ]
  },
  {
   "cell_type": "code",
   "execution_count": 81,
   "metadata": {},
   "outputs": [],
   "source": [
    "df = pd.read_csv('./datasets/streaming.csv')\n",
    "df_sample = df.sample(n=3000, random_state=42)\n",
    "\n",
    "df = df_sample.drop(['type', 'Unnamed: 0', 'show_id', 'director', 'country', 'date_added',\n",
    "                     'release_year', 'duration_int', 'duration_type', 'description', 'cast'], axis=1)\n",
    "genre_dummies = df_sample['listed_in'].str.join('|').str.get_dummies()\n",
    "features = pd.concat([genre_dummies, df['score']], axis=1)\n",
    "scaler = StandardScaler()\n",
    "features_scaled = scaler.fit_transform(features)\n",
    "cosine_sim = cosine_similarity(features_scaled)\n",
    "\n",
    "# Save the preprocessed data and trained model to files without compression\n",
    "with open('preprocessed_data.pickle', 'wb') as f:\n",
    "    pickle.dump((df_sample, features, cosine_sim), f)\n",
    "\n",
    "with open('trained_model.pickle', 'wb') as f:\n",
    "    pickle.dump((scaler,), f)\n"
   ]
  },
  {
   "attachments": {},
   "cell_type": "markdown",
   "metadata": {},
   "source": [
    "Recomendation"
   ]
  },
  {
   "cell_type": "code",
   "execution_count": 82,
   "metadata": {},
   "outputs": [],
   "source": [
    "def get_recommendations_new(title: str, num_recommendations=5):\n",
    "    \"\"\"\n",
    "    This model will give you a recommendation based on a given movie\n",
    "\n",
    "    Parameters:\n",
    "    title (str): The title of the movie you want to get recommendations from\n",
    "\n",
    "    Returns:\n",
    "    A list of 5 movies this model recommends you\n",
    "    \"\"\"\n",
    "    # Load preprocessed data and trained model from files without compression\n",
    "    with open('preprocessed_data.pickle', 'rb') as f:\n",
    "        df_sample, features, cosine_sim = pickle.load(f)\n",
    "\n",
    "    with open('trained_model.pickle', 'rb') as f:\n",
    "        scaler, = pickle.load(f)\n",
    "\n",
    "    # Preprocess the input title\n",
    "    title_features = pd.DataFrame(\n",
    "        features.iloc[df_sample[df_sample['title'] == title].index[0]]).T\n",
    "    title_features_scaled = scaler.transform(title_features)\n",
    "\n",
    "    # Calculate cosine similarity between input title and all other titles\n",
    "    sim_scores = list(\n",
    "        enumerate(cosine_sim[df_sample[df_sample['title'] == title].index[0]]))\n",
    "    sim_scores = sorted(sim_scores, key=lambda x: x[1], reverse=True)\n",
    "    sim_scores = sim_scores[1:num_recommendations+1]\n",
    "\n",
    "    # Get recommended movie titles\n",
    "    movie_indices = [i[0] for i in sim_scores]\n",
    "    recommended_movies = df_sample['title'].iloc[movie_indices].tolist()\n",
    "\n",
    "    return recommended_movies\n"
   ]
  },
  {
   "cell_type": "code",
   "execution_count": 83,
   "metadata": {},
   "outputs": [
    {
     "data": {
      "text/plain": [
       "['jcvd',\n",
       " 'tomorrow never dies',\n",
       " 'the man with the golden arm',\n",
       " 'blackmark',\n",
       " 'kadavul paathi mirugam paathi']"
      ]
     },
     "execution_count": 83,
     "metadata": {},
     "output_type": "execute_result"
    }
   ],
   "source": [
    "get_recommendations_new('homecoming')"
   ]
  }
 ],
 "metadata": {
  "language_info": {
   "name": "python"
  },
  "orig_nbformat": 4
 },
 "nbformat": 4,
 "nbformat_minor": 2
}
