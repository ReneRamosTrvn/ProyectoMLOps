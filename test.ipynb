{
 "cells": [
  {
   "cell_type": "code",
   "execution_count": 59,
   "metadata": {},
   "outputs": [],
   "source": [
    "import pandas as pd"
   ]
  },
  {
   "cell_type": "code",
   "execution_count": 60,
   "metadata": {},
   "outputs": [],
   "source": [
    "df = pd.read_csv('./datasets/streaming.csv')"
   ]
  },
  {
   "cell_type": "code",
   "execution_count": 61,
   "metadata": {},
   "outputs": [
    {
     "name": "stdout",
     "output_type": "stream",
     "text": [
      "<class 'pandas.core.frame.DataFrame'>\n",
      "RangeIndex: 22998 entries, 0 to 22997\n",
      "Data columns (total 14 columns):\n",
      " #   Column         Non-Null Count  Dtype  \n",
      "---  ------         --------------  -----  \n",
      " 0   show_id        22998 non-null  object \n",
      " 1   type           22998 non-null  object \n",
      " 2   title          22998 non-null  object \n",
      " 3   director       14739 non-null  object \n",
      " 4   cast           17677 non-null  object \n",
      " 5   country        11499 non-null  object \n",
      " 6   date_added     155 non-null    object \n",
      " 7   release_year   22998 non-null  int64  \n",
      " 8   rating         22998 non-null  object \n",
      " 9   listed_in      22998 non-null  object \n",
      " 10  description    22994 non-null  object \n",
      " 11  duration_int   22998 non-null  int64  \n",
      " 12  duration_type  22516 non-null  object \n",
      " 13  score          22998 non-null  float64\n",
      "dtypes: float64(1), int64(2), object(11)\n",
      "memory usage: 2.5+ MB\n"
     ]
    }
   ],
   "source": [
    "df.info()"
   ]
  },
  {
   "cell_type": "code",
   "execution_count": 62,
   "metadata": {},
   "outputs": [],
   "source": [
    "def get_max_duration(year, platform, duration_type):\n",
    "    df_filtered = df.loc[(df['release_year'] == year) & df['show_id'].str.startswith(\n",
    "        platform) & (df['duration_type'] == duration_type) & (df['type'] == 'movie')]\n",
    "    movie = df_filtered.loc[df_filtered['duration_int'].idxmax()]\n",
    "    return movie['title']"
   ]
  },
  {
   "cell_type": "code",
   "execution_count": 63,
   "metadata": {},
   "outputs": [
    {
     "data": {
      "text/plain": [
       "'unbreakable kimmy schmidt: kimmy vs. the reverend'"
      ]
     },
     "execution_count": 63,
     "metadata": {},
     "output_type": "execute_result"
    }
   ],
   "source": [
    "get_max_duration(2020, 'n', 'min')"
   ]
  },
  {
   "cell_type": "code",
   "execution_count": 67,
   "metadata": {},
   "outputs": [],
   "source": [
    "def get_max_score(platform, score, year):\n",
    "    df_sc = df.loc[df['show_id'].str.startswith(platform) & (df['score'] >= score) & (df['release_year'] == year) & (df['type'] == 'movie')]\n",
    "    return df_sc.shape[0]"
   ]
  },
  {
   "cell_type": "code",
   "execution_count": 68,
   "metadata": {},
   "outputs": [
    {
     "data": {
      "text/plain": [
       "81"
      ]
     },
     "execution_count": 68,
     "metadata": {},
     "output_type": "execute_result"
    }
   ],
   "source": [
    "get_max_score('a', 3.54, 2010)"
   ]
  },
  {
   "cell_type": "code",
   "execution_count": 69,
   "metadata": {},
   "outputs": [],
   "source": [
    "def get_count_platform(platform):\n",
    "    df_pl = df.loc[df['show_id'].str.startswith(platform)]\n",
    "    return df_pl.shape[0]"
   ]
  },
  {
   "cell_type": "code",
   "execution_count": 73,
   "metadata": {},
   "outputs": [
    {
     "data": {
      "text/plain": [
       "1450"
      ]
     },
     "execution_count": 73,
     "metadata": {},
     "output_type": "execute_result"
    }
   ],
   "source": [
    "get_count_platform('d')"
   ]
  },
  {
   "cell_type": "code",
   "execution_count": 101,
   "metadata": {},
   "outputs": [],
   "source": [
    "def get_actor(platform, year):\n",
    "    df_ac = df.loc[df['show_id'].str.startswith(platform) & (df['release_year'] == year)]\n",
    "    actors = df_ac['cast'].str.split(', ')\n",
    "    most_common_actor = actors.value_counts().idxmax()\n",
    "    \n",
    "    return most_common_actor"
   ]
  },
  {
   "cell_type": "code",
   "execution_count": 128,
   "metadata": {},
   "outputs": [
    {
     "name": "stderr",
     "output_type": "stream",
     "text": [
      "/var/folders/69/7m4xz9b13hj96zbkt5lxyytr0000gn/T/ipykernel_43835/886411390.py:5: FutureWarning: Using the level keyword in DataFrame and Series aggregations is deprecated and will be removed in a future version. Use groupby instead. ser.count(level=1) should use ser.groupby(level=1).count().\n",
      "  count_actor = actors.count(most_common_actor)\n"
     ]
    },
    {
     "ename": "ValueError",
     "evalue": "Series.count level is only valid with a MultiIndex",
     "output_type": "error",
     "traceback": [
      "\u001b[0;31m---------------------------------------------------------------------------\u001b[0m",
      "\u001b[0;31mValueError\u001b[0m                                Traceback (most recent call last)",
      "Cell \u001b[0;32mIn[128], line 5\u001b[0m\n\u001b[1;32m      3\u001b[0m most_common_actor \u001b[39m=\u001b[39m actors\u001b[39m.\u001b[39mvalue_counts()\u001b[39m.\u001b[39midxmax()\n\u001b[1;32m      4\u001b[0m most_common_actor_str \u001b[39m=\u001b[39m most_common_actor[\u001b[39m0\u001b[39m]\n\u001b[0;32m----> 5\u001b[0m count_actor \u001b[39m=\u001b[39m actors\u001b[39m.\u001b[39;49mcount(most_common_actor)\n\u001b[1;32m      6\u001b[0m \u001b[39mprint\u001b[39m(most_common_actor_str)\n",
      "File \u001b[0;32m/Library/Frameworks/Python.framework/Versions/3.11/lib/python3.11/site-packages/pandas/core/series.py:2129\u001b[0m, in \u001b[0;36mSeries.count\u001b[0;34m(self, level)\u001b[0m\n\u001b[1;32m   2121\u001b[0m     warnings\u001b[39m.\u001b[39mwarn(\n\u001b[1;32m   2122\u001b[0m         \u001b[39m\"\u001b[39m\u001b[39mUsing the level keyword in DataFrame and Series aggregations is \u001b[39m\u001b[39m\"\u001b[39m\n\u001b[1;32m   2123\u001b[0m         \u001b[39m\"\u001b[39m\u001b[39mdeprecated and will be removed in a future version. Use groupby \u001b[39m\u001b[39m\"\u001b[39m\n\u001b[0;32m   (...)\u001b[0m\n\u001b[1;32m   2126\u001b[0m         stacklevel\u001b[39m=\u001b[39mfind_stack_level(),\n\u001b[1;32m   2127\u001b[0m     )\n\u001b[1;32m   2128\u001b[0m     \u001b[39mif\u001b[39;00m \u001b[39mnot\u001b[39;00m \u001b[39misinstance\u001b[39m(\u001b[39mself\u001b[39m\u001b[39m.\u001b[39mindex, MultiIndex):\n\u001b[0;32m-> 2129\u001b[0m         \u001b[39mraise\u001b[39;00m \u001b[39mValueError\u001b[39;00m(\u001b[39m\"\u001b[39m\u001b[39mSeries.count level is only valid with a MultiIndex\u001b[39m\u001b[39m\"\u001b[39m)\n\u001b[1;32m   2131\u001b[0m index \u001b[39m=\u001b[39m \u001b[39mself\u001b[39m\u001b[39m.\u001b[39mindex\n\u001b[1;32m   2132\u001b[0m \u001b[39massert\u001b[39;00m \u001b[39misinstance\u001b[39m(index, MultiIndex)  \u001b[39m# for mypy\u001b[39;00m\n",
      "\u001b[0;31mValueError\u001b[0m: Series.count level is only valid with a MultiIndex"
     ]
    }
   ],
   "source": [
    "df_ac = df.loc[df['show_id'].str.startswith('a') & (df['release_year'] == 2020)]\n",
    "actors = df_ac['cast'].str.split(', ')\n",
    "most_common_actor = actors.value_counts().idxmax()\n",
    "most_common_actor_str = most_common_actor[0]\n",
    "count_actor = actors.count(most_common_actor)\n",
    "print(most_common_actor_str)\n"
   ]
  },
  {
   "cell_type": "code",
   "execution_count": 98,
   "metadata": {},
   "outputs": [
    {
     "ename": "AttributeError",
     "evalue": "'list' object has no attribute 'value_counts'",
     "output_type": "error",
     "traceback": [
      "\u001b[0;31m---------------------------------------------------------------------------\u001b[0m",
      "\u001b[0;31mAttributeError\u001b[0m                            Traceback (most recent call last)",
      "Cell \u001b[0;32mIn[98], line 1\u001b[0m\n\u001b[0;32m----> 1\u001b[0m get_actor(\u001b[39m'\u001b[39;49m\u001b[39ma\u001b[39;49m\u001b[39m'\u001b[39;49m, \u001b[39m2020\u001b[39;49m)\n",
      "Cell \u001b[0;32mIn[97], line 5\u001b[0m, in \u001b[0;36mget_actor\u001b[0;34m(platform, year)\u001b[0m\n\u001b[1;32m      3\u001b[0m actors \u001b[39m=\u001b[39m df_ac[\u001b[39m'\u001b[39m\u001b[39mcast\u001b[39m\u001b[39m'\u001b[39m]\u001b[39m.\u001b[39mstr\u001b[39m.\u001b[39msplit(\u001b[39m'\u001b[39m\u001b[39m, \u001b[39m\u001b[39m'\u001b[39m)\n\u001b[1;32m      4\u001b[0m most_common_actor \u001b[39m=\u001b[39m actors\u001b[39m.\u001b[39mvalue_counts()\u001b[39m.\u001b[39midxmax()\n\u001b[0;32m----> 5\u001b[0m most_common_actor_count \u001b[39m=\u001b[39m most_common_actor\u001b[39m.\u001b[39;49mvalue_counts()\n\u001b[1;32m      6\u001b[0m \u001b[39mreturn\u001b[39;00m most_common_actor, most_common_actor_count\n",
      "\u001b[0;31mAttributeError\u001b[0m: 'list' object has no attribute 'value_counts'"
     ]
    }
   ],
   "source": [
    "get_actor('a', 2020)"
   ]
  },
  {
   "cell_type": "code",
   "execution_count": 99,
   "metadata": {},
   "outputs": [],
   "source": [
    "def prod_per_county(type,country,year):\n",
    "    df_pc = df.loc[(df['type'] == type) & (df['release_year'] == year) & (df['country'] == country)]\n",
    "    dicc = {\n",
    "        'country' : country,\n",
    "        'type': type,\n",
    "        'products': df_pc.shape[0]\n",
    "    }\n",
    "    return dicc"
   ]
  },
  {
   "cell_type": "code",
   "execution_count": 100,
   "metadata": {},
   "outputs": [
    {
     "data": {
      "text/plain": [
       "{'country': 'canada', 'type': 'movie', 'products': 18}"
      ]
     },
     "execution_count": 100,
     "metadata": {},
     "output_type": "execute_result"
    }
   ],
   "source": [
    "prod_per_county('movie', 'canada', 2020)"
   ]
  },
  {
   "cell_type": "code",
   "execution_count": null,
   "metadata": {},
   "outputs": [],
   "source": [
    "def get_contents(rating):\n",
    "    df_rat = df.loc[df['rating'] == rating]\n",
    "    count = df_rat['rating'].count()\n",
    "    return count"
   ]
  },
  {
   "cell_type": "code",
   "execution_count": 133,
   "metadata": {},
   "outputs": [
    {
     "name": "stdout",
     "output_type": "stream",
     "text": [
      "2117\n"
     ]
    }
   ],
   "source": [
    "df_rat = df.loc[df['rating'] == '13+']\n",
    "count = df_rat['rating'].count()\n",
    "print(count)"
   ]
  }
 ],
 "metadata": {
  "kernelspec": {
   "display_name": "Python 3",
   "language": "python",
   "name": "python3"
  },
  "language_info": {
   "codemirror_mode": {
    "name": "ipython",
    "version": 3
   },
   "file_extension": ".py",
   "mimetype": "text/x-python",
   "name": "python",
   "nbconvert_exporter": "python",
   "pygments_lexer": "ipython3",
   "version": "3.11.1"
  },
  "orig_nbformat": 4
 },
 "nbformat": 4,
 "nbformat_minor": 2
}
