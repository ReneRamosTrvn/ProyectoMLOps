{
 "cells": [
  {
   "cell_type": "code",
   "execution_count": 28,
   "metadata": {},
   "outputs": [],
   "source": [
    "import pandas as pd"
   ]
  },
  {
   "cell_type": "code",
   "execution_count": 29,
   "metadata": {},
   "outputs": [
    {
     "data": {
      "text/html": [
       "<div>\n",
       "<style scoped>\n",
       "    .dataframe tbody tr th:only-of-type {\n",
       "        vertical-align: middle;\n",
       "    }\n",
       "\n",
       "    .dataframe tbody tr th {\n",
       "        vertical-align: top;\n",
       "    }\n",
       "\n",
       "    .dataframe thead th {\n",
       "        text-align: right;\n",
       "    }\n",
       "</style>\n",
       "<table border=\"1\" class=\"dataframe\">\n",
       "  <thead>\n",
       "    <tr style=\"text-align: right;\">\n",
       "      <th></th>\n",
       "      <th>show_id</th>\n",
       "      <th>type</th>\n",
       "      <th>title</th>\n",
       "      <th>director</th>\n",
       "      <th>cast</th>\n",
       "      <th>country</th>\n",
       "      <th>date_added</th>\n",
       "      <th>release_year</th>\n",
       "      <th>rating</th>\n",
       "      <th>listed_in</th>\n",
       "      <th>description</th>\n",
       "      <th>duration_int</th>\n",
       "      <th>duration_type</th>\n",
       "      <th>score</th>\n",
       "    </tr>\n",
       "  </thead>\n",
       "  <tbody>\n",
       "    <tr>\n",
       "      <th>0</th>\n",
       "      <td>as1</td>\n",
       "      <td>movie</td>\n",
       "      <td>the grand seduction</td>\n",
       "      <td>don mckellar</td>\n",
       "      <td>brendan gleeson, taylor kitsch, gordon pinsent</td>\n",
       "      <td>canada</td>\n",
       "      <td>2021-03-30</td>\n",
       "      <td>2014</td>\n",
       "      <td>g</td>\n",
       "      <td>comedy, drama</td>\n",
       "      <td>a small fishing village must procure a local d...</td>\n",
       "      <td>113</td>\n",
       "      <td>min</td>\n",
       "      <td>3.47</td>\n",
       "    </tr>\n",
       "    <tr>\n",
       "      <th>1</th>\n",
       "      <td>as2</td>\n",
       "      <td>movie</td>\n",
       "      <td>take care good night</td>\n",
       "      <td>girish joshi</td>\n",
       "      <td>mahesh manjrekar, abhay mahajan, sachin khedekar</td>\n",
       "      <td>india</td>\n",
       "      <td>2021-03-30</td>\n",
       "      <td>2018</td>\n",
       "      <td>13+</td>\n",
       "      <td>drama, international</td>\n",
       "      <td>a metro family decides to fight a cyber crimin...</td>\n",
       "      <td>110</td>\n",
       "      <td>min</td>\n",
       "      <td>3.55</td>\n",
       "    </tr>\n",
       "    <tr>\n",
       "      <th>2</th>\n",
       "      <td>as3</td>\n",
       "      <td>movie</td>\n",
       "      <td>secrets of deception</td>\n",
       "      <td>josh webber</td>\n",
       "      <td>tom sizemore, lorenzo lamas, robert lasardo, r...</td>\n",
       "      <td>united states</td>\n",
       "      <td>2021-03-30</td>\n",
       "      <td>2017</td>\n",
       "      <td>g</td>\n",
       "      <td>action, drama, suspense</td>\n",
       "      <td>after a man discovers his wife is cheating on ...</td>\n",
       "      <td>74</td>\n",
       "      <td>min</td>\n",
       "      <td>3.50</td>\n",
       "    </tr>\n",
       "    <tr>\n",
       "      <th>3</th>\n",
       "      <td>as4</td>\n",
       "      <td>movie</td>\n",
       "      <td>pink: staying true</td>\n",
       "      <td>sonia anderson</td>\n",
       "      <td>interviews with: pink, adele, beyoncé, britney...</td>\n",
       "      <td>united states</td>\n",
       "      <td>2021-03-30</td>\n",
       "      <td>2014</td>\n",
       "      <td>g</td>\n",
       "      <td>documentary</td>\n",
       "      <td>pink breaks the mold once again, bringing her ...</td>\n",
       "      <td>69</td>\n",
       "      <td>min</td>\n",
       "      <td>3.54</td>\n",
       "    </tr>\n",
       "    <tr>\n",
       "      <th>4</th>\n",
       "      <td>as5</td>\n",
       "      <td>movie</td>\n",
       "      <td>monster maker</td>\n",
       "      <td>giles foster</td>\n",
       "      <td>harry dean stanton, kieran o'brien, george cos...</td>\n",
       "      <td>united kingdom</td>\n",
       "      <td>2021-03-30</td>\n",
       "      <td>1989</td>\n",
       "      <td>g</td>\n",
       "      <td>drama, fantasy</td>\n",
       "      <td>teenage matt banting wants to work with a famo...</td>\n",
       "      <td>45</td>\n",
       "      <td>min</td>\n",
       "      <td>3.48</td>\n",
       "    </tr>\n",
       "  </tbody>\n",
       "</table>\n",
       "</div>"
      ],
      "text/plain": [
       "  show_id   type                 title        director  \\\n",
       "0     as1  movie   the grand seduction    don mckellar   \n",
       "1     as2  movie  take care good night    girish joshi   \n",
       "2     as3  movie  secrets of deception     josh webber   \n",
       "3     as4  movie    pink: staying true  sonia anderson   \n",
       "4     as5  movie         monster maker    giles foster   \n",
       "\n",
       "                                                cast         country  \\\n",
       "0     brendan gleeson, taylor kitsch, gordon pinsent          canada   \n",
       "1   mahesh manjrekar, abhay mahajan, sachin khedekar           india   \n",
       "2  tom sizemore, lorenzo lamas, robert lasardo, r...   united states   \n",
       "3  interviews with: pink, adele, beyoncé, britney...   united states   \n",
       "4  harry dean stanton, kieran o'brien, george cos...  united kingdom   \n",
       "\n",
       "   date_added  release_year rating                listed_in  \\\n",
       "0  2021-03-30          2014      g            comedy, drama   \n",
       "1  2021-03-30          2018    13+     drama, international   \n",
       "2  2021-03-30          2017      g  action, drama, suspense   \n",
       "3  2021-03-30          2014      g              documentary   \n",
       "4  2021-03-30          1989      g           drama, fantasy   \n",
       "\n",
       "                                         description  duration_int  \\\n",
       "0  a small fishing village must procure a local d...           113   \n",
       "1  a metro family decides to fight a cyber crimin...           110   \n",
       "2  after a man discovers his wife is cheating on ...            74   \n",
       "3  pink breaks the mold once again, bringing her ...            69   \n",
       "4  teenage matt banting wants to work with a famo...            45   \n",
       "\n",
       "  duration_type  score  \n",
       "0           min   3.47  \n",
       "1           min   3.55  \n",
       "2           min   3.50  \n",
       "3           min   3.54  \n",
       "4           min   3.48  "
      ]
     },
     "execution_count": 29,
     "metadata": {},
     "output_type": "execute_result"
    }
   ],
   "source": [
    "df = pd.read_csv('./datasets/streaming.csv')\n",
    "df.head()"
   ]
  },
  {
   "cell_type": "code",
   "execution_count": 30,
   "metadata": {},
   "outputs": [
    {
     "name": "stdout",
     "output_type": "stream",
     "text": [
      "['g' '13+' 'all' '18+' 'r' 'tv-y' 'tv-y7' 'nr' '16+' 'tv-pg' '7+' 'tv-14'\n",
      " 'tv-nr' 'tv-g' 'pg-13' 'tv-ma' 'pg' 'nc-17' 'unrated' '16' 'ages_16_'\n",
      " 'ages_18_' 'all_ages' 'not_rate' '74 min' '84 min' '66 min' 'tv-y7-fv'\n",
      " 'ur' 'not rated' '2 seasons' '93 min' '4 seasons' '136 min' '91 min'\n",
      " '85 min' '98 min' '89 min' '94 min' '86 min' '3 seasons' '121 min'\n",
      " '88 min' '101 min' '1 season' '83 min' '100 min' '95 min' '92 min'\n",
      " '96 min' '109 min' '99 min' '75 min' '87 min' '67 min' '104 min'\n",
      " '107 min' '103 min' '105 min' '119 min' '114 min' '82 min' '90 min'\n",
      " '130 min' '110 min' '80 min' '6 seasons' '97 min' '111 min' '81 min'\n",
      " '49 min' '45 min' '41 min' '73 min' '40 min' '36 min' '39 min' '34 min'\n",
      " '47 min' '65 min' '37 min' '78 min' '102 min' '129 min' '115 min'\n",
      " '112 min' '61 min' '106 min' '76 min' '77 min' '79 min' '157 min'\n",
      " '28 min' '64 min' '7 min' '5 min' '6 min' '127 min' '142 min' '108 min'\n",
      " '57 min' '118 min' '116 min' '12 seasons' '71 min']\n"
     ]
    }
   ],
   "source": [
    "print(df['rating'].unique())"
   ]
  },
  {
   "attachments": {},
   "cell_type": "markdown",
   "metadata": {},
   "source": [
    "In the given dataset, it's evident that the column 'rating' contains a considerable number of erroneous values. To ensure the accuracy of our model that recommends movies, it's crucial to deal with these outliers. Thus, we plan to modify all these incorrect values to a single value 'g'. This will enable us to exclude any unwanted variation that could arise due to these outliers and create a reliable model for movie recommendations."
   ]
  },
  {
   "cell_type": "code",
   "execution_count": 31,
   "metadata": {},
   "outputs": [],
   "source": [
    "df.loc[df['rating'].str.contains('min|seasons'), 'rating'] = 'g'"
   ]
  },
  {
   "attachments": {},
   "cell_type": "markdown",
   "metadata": {},
   "source": [
    "After scrutinizing all the columns of the given dataset, we observed that only the 'rating' column had incorrect values that required modifications. Therefore, we have rectified all the erroneous entries in the 'rating' column, and now we have a clean dataset with accurate ratings. We ensured that none of the other columns contained any irregularities that could affect the analysis. As a result, we can confidently proceed with the analysis using this clean dataset, knowing that it contains reliable and accurate information."
   ]
  },
  {
   "cell_type": "code",
   "execution_count": 32,
   "metadata": {},
   "outputs": [],
   "source": [
    "df.to_csv('./datasets/streaming.csv')"
   ]
  }
 ],
 "metadata": {
  "kernelspec": {
   "display_name": "Python 3",
   "language": "python",
   "name": "python3"
  },
  "language_info": {
   "codemirror_mode": {
    "name": "ipython",
    "version": 3
   },
   "file_extension": ".py",
   "mimetype": "text/x-python",
   "name": "python",
   "nbconvert_exporter": "python",
   "pygments_lexer": "ipython3",
   "version": "3.11.1"
  },
  "orig_nbformat": 4
 },
 "nbformat": 4,
 "nbformat_minor": 2
}
