{
 "cells": [
  {
   "cell_type": "code",
   "execution_count": 84,
   "metadata": {},
   "outputs": [],
   "source": [
    "from sklearn.preprocessing import StandardScaler\n",
    "from sklearn.metrics.pairwise import cosine_similarity\n",
    "from sklearn.pipeline import make_pipeline\n",
    "import pandas as pd\n",
    "import joblib"
   ]
  },
  {
   "attachments": {},
   "cell_type": "markdown",
   "metadata": {},
   "source": [
    "Train data"
   ]
  },
  {
   "cell_type": "code",
   "execution_count": 85,
   "metadata": {},
   "outputs": [
    {
     "data": {
      "text/plain": [
       "['trained_model.joblib']"
      ]
     },
     "execution_count": 85,
     "metadata": {},
     "output_type": "execute_result"
    }
   ],
   "source": [
    "df = pd.read_csv('./datasets/streaming.csv')\n",
    "df_sample = df.sample(n=3000, random_state=42)\n",
    "\n",
    "df = df_sample.drop(['type', 'Unnamed: 0', 'show_id', 'director', 'country', 'date_added',\n",
    "                     'release_year', 'duration_int', 'duration_type', 'description', 'cast'], axis=1)\n",
    "genre_dummies = df_sample['listed_in'].str.join('|').str.get_dummies()\n",
    "features = pd.concat([genre_dummies, df['score']], axis=1)\n",
    "\n",
    "scaler = StandardScaler()\n",
    "features_scaled = scaler.fit_transform(features)\n",
    "\n",
    "cosine_sim = cosine_similarity(features_scaled)\n",
    "\n",
    "joblib.dump((df_sample, features, cosine_sim), 'preprocessed_data.joblib')\n",
    "joblib.dump(scaler, 'trained_model.joblib')\n"
   ]
  }
 ],
 "metadata": {
  "language_info": {
   "name": "python"
  },
  "orig_nbformat": 4
 },
 "nbformat": 4,
 "nbformat_minor": 2
}
